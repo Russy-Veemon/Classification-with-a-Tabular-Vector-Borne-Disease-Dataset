{
  "nbformat": 4,
  "nbformat_minor": 0,
  "metadata": {
    "colab": {
      "provenance": [],
      "authorship_tag": "ABX9TyPQtCBENp/V62axj1uJFK/v",
      "include_colab_link": true
    },
    "kernelspec": {
      "name": "python3",
      "display_name": "Python 3"
    },
    "language_info": {
      "name": "python"
    }
  },
  "cells": [
    {
      "cell_type": "markdown",
      "metadata": {
        "id": "view-in-github",
        "colab_type": "text"
      },
      "source": [
        "<a href=\"https://colab.research.google.com/github/Russy-Veemon/Classification-with-a-Tabular-Vector-Borne-Disease-Dataset/blob/main/Russy_Vee_KagglePracticeComp_Classification_with_a_Tabular_Vector_Borne_Disease_Dataset.ipynb\" target=\"_parent\"><img src=\"https://colab.research.google.com/assets/colab-badge.svg\" alt=\"Open In Colab\"/></a>"
      ]
    },
    {
      "cell_type": "code",
      "execution_count": 3,
      "metadata": {
        "id": "h-pzQmsY_8fM"
      },
      "outputs": [],
      "source": [
        "import pandas as pd\n",
        "import numpy as np\n",
        "import csv"
      ]
    },
    {
      "cell_type": "code",
      "source": [
        "with open('sample_submission.csv', 'r') as fp:\n",
        "  print(fp)"
      ],
      "metadata": {
        "colab": {
          "base_uri": "https://localhost:8080/"
        },
        "id": "uJRqolAfA9UW",
        "outputId": "92af02f9-405e-4a74-d4a3-2a103b1645af"
      },
      "execution_count": 6,
      "outputs": [
        {
          "output_type": "stream",
          "name": "stdout",
          "text": [
            "<_io.TextIOWrapper name='sample_submission.csv' mode='r' encoding='UTF-8'>\n"
          ]
        }
      ]
    },
    {
      "cell_type": "code",
      "source": [
        "with open('sample_submission.csv', 'r') as fp:\n",
        "  for index, line in enumerate(fp.readlines()):\n",
        "    if (index < 10):\n",
        "      print(index, line)"
      ],
      "metadata": {
        "colab": {
          "base_uri": "https://localhost:8080/"
        },
        "id": "ot3fdF8gOzTA",
        "outputId": "8b1836eb-5053-47ae-9d41-0d6ba5437dbc"
      },
      "execution_count": 8,
      "outputs": [
        {
          "output_type": "stream",
          "name": "stdout",
          "text": [
            "0 id,prognosis\n",
            "\n",
            "1 707,Dengue Zika Japanese_encephalitis\n",
            "\n",
            "2 708,Dengue Zika Japanese_encephalitis\n",
            "\n",
            "3 709,Dengue Zika Japanese_encephalitis\n",
            "\n",
            "4 710,Dengue Zika Japanese_encephalitis\n",
            "\n",
            "5 711,Dengue Zika Japanese_encephalitis\n",
            "\n",
            "6 712,Dengue Zika Japanese_encephalitis\n",
            "\n",
            "7 713,Dengue Zika Japanese_encephalitis\n",
            "\n",
            "8 714,Dengue Zika Japanese_encephalitis\n",
            "\n",
            "9 715,Dengue Zika Japanese_encephalitis\n",
            "\n"
          ]
        }
      ]
    },
    {
      "cell_type": "code",
      "source": [
        "with open ('sample_submission.csv', 'r') as fp:\n",
        "  reader = csv.reader(fp, delimiter=',')\n",
        "  next(reader)\n",
        "  for index, values in enumerate (reader):\n",
        "    id, prognosis = values\n",
        "    print(f\"{id} has this {prognosis}\")"
      ],
      "metadata": {
        "id": "tRIg134CPVI7"
      },
      "execution_count": null,
      "outputs": []
    }
  ]
}